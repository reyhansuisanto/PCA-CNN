{
  "nbformat": 4,
  "nbformat_minor": 0,
  "metadata": {
    "colab": {
      "name": "PCA + CNN (fashionmnist) UAS.ipynb",
      "provenance": []
    },
    "kernelspec": {
      "name": "python3",
      "display_name": "Python 3"
    },
    "language_info": {
      "name": "python"
    },
    "accelerator": "GPU"
  },
  "cells": [
    {
      "cell_type": "code",
      "metadata": {
        "id": "LZTi8yNQOa5_"
      },
      "source": [
        "# Reyhan Suisanto\n",
        "# 2301872980"
      ],
      "execution_count": 13,
      "outputs": []
    },
    {
      "cell_type": "code",
      "metadata": {
        "id": "ek66SoyiRdRX"
      },
      "source": [
        "import pandas as pd\n",
        "import numpy as np\n",
        "from keras.datasets import fashion_mnist\n",
        "from sklearn.preprocessing import StandardScaler\n",
        "from sklearn.model_selection import train_test_split\n",
        "from sklearn.metrics import accuracy_score\n",
        "import matplotlib.pyplot as plt\n",
        "from tensorflow.keras.utils import to_categorical\n",
        "from keras.models import Sequential\n",
        "from keras.layers import Dense, Conv2D, Flatten\n",
        "from sklearn.decomposition import PCA"
      ],
      "execution_count": 14,
      "outputs": []
    },
    {
      "cell_type": "markdown",
      "metadata": {
        "id": "p-9VRSMFRh0R"
      },
      "source": [
        "Download data fashion.mnist sekaligus train test split data tersebut"
      ]
    },
    {
      "cell_type": "code",
      "metadata": {
        "id": "4kuVVtagRfg8"
      },
      "source": [
        "(x_train, y_train), (x_test, y_test) = fashion_mnist.load_data()"
      ],
      "execution_count": 15,
      "outputs": []
    },
    {
      "cell_type": "markdown",
      "metadata": {
        "id": "gc7O_At-Rl_P"
      },
      "source": [
        "Normalisasi data menggunakan standardscaler"
      ]
    },
    {
      "cell_type": "code",
      "metadata": {
        "id": "D5KCGc7JRlnI"
      },
      "source": [
        "scaler = StandardScaler()\n",
        "x_train = scaler.fit_transform(x_train.reshape(60000,-1))\n",
        "x_test = scaler.fit_transform(x_test.reshape(10000,-1))"
      ],
      "execution_count": 16,
      "outputs": []
    },
    {
      "cell_type": "markdown",
      "metadata": {
        "id": "lGv1Iuh_RxnI"
      },
      "source": [
        "PCA data x_train dan x_test"
      ]
    },
    {
      "cell_type": "code",
      "metadata": {
        "id": "GpwLOiOqRvUk"
      },
      "source": [
        "pca = PCA(n_components=676)\n",
        "pca = pca.fit(x_train)\n",
        "x_train = pca.transform(x_train)\n",
        "x_test = pca.transform(x_test)"
      ],
      "execution_count": 17,
      "outputs": []
    },
    {
      "cell_type": "markdown",
      "metadata": {
        "id": "dkgYMQcBRrKv"
      },
      "source": [
        "Reshape x_train dan x_test. Lalu menggunakan to_categorical untuk mengencode data dari y_train dan y_test"
      ]
    },
    {
      "cell_type": "code",
      "metadata": {
        "id": "-2S4MjN3Ro-R"
      },
      "source": [
        "x_train = x_train.reshape(60000,26,26,1)\n",
        "x_test = x_test.reshape(10000,26,26,1)\n",
        "\n",
        "y_train = to_categorical(y_train)\n",
        "y_test = to_categorical(y_test)"
      ],
      "execution_count": 18,
      "outputs": []
    },
    {
      "cell_type": "markdown",
      "metadata": {
        "id": "As8SYoW8R2j9"
      },
      "source": [
        "Membuat model dan menambahkan layer dari model"
      ]
    },
    {
      "cell_type": "code",
      "metadata": {
        "id": "FRX1H_COR0e6"
      },
      "source": [
        "model = Sequential()\n",
        "model.add(Conv2D(64, kernel_size=3, activation='relu', input_shape=(26,26,1)))\n",
        "model.add(Conv2D(32, kernel_size=3, activation='relu'))\n",
        "model.add(Flatten())\n",
        "model.add(Dense(10, activation='softmax'))"
      ],
      "execution_count": 19,
      "outputs": []
    },
    {
      "cell_type": "markdown",
      "metadata": {
        "id": "37LqlfPwR9UW"
      },
      "source": [
        "Melakukan compile model untuk mengetahui measure model performance"
      ]
    },
    {
      "cell_type": "code",
      "metadata": {
        "id": "P7V0Ktu9R5Jn"
      },
      "source": [
        "model.compile(optimizer='adam', loss='categorical_crossentropy', metrics=['accuracy'])"
      ],
      "execution_count": 20,
      "outputs": []
    },
    {
      "cell_type": "code",
      "metadata": {
        "colab": {
          "base_uri": "https://localhost:8080/"
        },
        "id": "fCzLaPKgR_w3",
        "outputId": "46cc26b5-ab17-429c-f4ac-71a67b3916db"
      },
      "source": [
        "model.summary()"
      ],
      "execution_count": 21,
      "outputs": [
        {
          "output_type": "stream",
          "text": [
            "Model: \"sequential_1\"\n",
            "_________________________________________________________________\n",
            "Layer (type)                 Output Shape              Param #   \n",
            "=================================================================\n",
            "conv2d_2 (Conv2D)            (None, 24, 24, 64)        640       \n",
            "_________________________________________________________________\n",
            "conv2d_3 (Conv2D)            (None, 22, 22, 32)        18464     \n",
            "_________________________________________________________________\n",
            "flatten_1 (Flatten)          (None, 15488)             0         \n",
            "_________________________________________________________________\n",
            "dense_1 (Dense)              (None, 10)                154890    \n",
            "=================================================================\n",
            "Total params: 173,994\n",
            "Trainable params: 173,994\n",
            "Non-trainable params: 0\n",
            "_________________________________________________________________\n"
          ],
          "name": "stdout"
        }
      ]
    },
    {
      "cell_type": "markdown",
      "metadata": {
        "id": "7kqnYY9CSGF1"
      },
      "source": [
        "Validation"
      ]
    },
    {
      "cell_type": "code",
      "metadata": {
        "id": "fTwEPU4ySFpq"
      },
      "source": [
        "x_test, x_val, y_test, y_val = train_test_split(x_test, y_test, test_size = 0.3)"
      ],
      "execution_count": 22,
      "outputs": []
    },
    {
      "cell_type": "markdown",
      "metadata": {
        "id": "cGpf0Pe-SJCS"
      },
      "source": [
        "Training model"
      ]
    },
    {
      "cell_type": "code",
      "metadata": {
        "colab": {
          "base_uri": "https://localhost:8080/"
        },
        "id": "or3l4S9NSIiL",
        "outputId": "6d66f72a-f138-4338-9575-b6fe468ee606"
      },
      "source": [
        "model.fit(x_train, y_train, validation_data=(x_val, y_val), epochs=3)"
      ],
      "execution_count": 23,
      "outputs": [
        {
          "output_type": "stream",
          "text": [
            "Epoch 1/3\n",
            "1875/1875 [==============================] - 49s 3ms/step - loss: 0.6191 - accuracy: 0.7970 - val_loss: 0.3854 - val_accuracy: 0.8643\n",
            "Epoch 2/3\n",
            "1875/1875 [==============================] - 6s 3ms/step - loss: 0.2758 - accuracy: 0.9036 - val_loss: 0.3708 - val_accuracy: 0.8713\n",
            "Epoch 3/3\n",
            "1875/1875 [==============================] - 6s 3ms/step - loss: 0.1848 - accuracy: 0.9361 - val_loss: 0.4264 - val_accuracy: 0.8670\n"
          ],
          "name": "stdout"
        },
        {
          "output_type": "execute_result",
          "data": {
            "text/plain": [
              "<keras.callbacks.History at 0x7f49406bcdd0>"
            ]
          },
          "metadata": {
            "tags": []
          },
          "execution_count": 23
        }
      ]
    },
    {
      "cell_type": "markdown",
      "metadata": {
        "id": "HSDmg5QMSQs6"
      },
      "source": [
        "Prediksi test set dan mengubah setiap value > 0.50 menjadi 1 dan setiap value < 0.50 menjadi 0 agar accuracy score dapat dilakukan "
      ]
    },
    {
      "cell_type": "code",
      "metadata": {
        "colab": {
          "base_uri": "https://localhost:8080/"
        },
        "id": "o9Sq68cPSNZi",
        "outputId": "95507a92-5d1f-4924-fd4b-8f7ae0f2577f"
      },
      "source": [
        "prediction = model.predict(x_test)\n",
        "pred = (prediction > 0.50).astype(int)\n",
        "pred"
      ],
      "execution_count": 24,
      "outputs": [
        {
          "output_type": "execute_result",
          "data": {
            "text/plain": [
              "array([[0, 0, 0, ..., 0, 0, 1],\n",
              "       [0, 0, 0, ..., 0, 0, 0],\n",
              "       [1, 0, 0, ..., 0, 0, 0],\n",
              "       ...,\n",
              "       [0, 0, 0, ..., 0, 0, 0],\n",
              "       [0, 0, 0, ..., 0, 0, 0],\n",
              "       [0, 1, 0, ..., 0, 0, 0]])"
            ]
          },
          "metadata": {
            "tags": []
          },
          "execution_count": 24
        }
      ]
    },
    {
      "cell_type": "markdown",
      "metadata": {
        "id": "spRyGjrHSUv8"
      },
      "source": [
        "Hasil akhir dalam bentuk perbandingan antara data prediksi dan data real"
      ]
    },
    {
      "cell_type": "code",
      "metadata": {
        "colab": {
          "base_uri": "https://localhost:8080/"
        },
        "id": "n-XhDHT4SS12",
        "outputId": "c336c798-13b0-4755-8478-ce6f34284716"
      },
      "source": [
        "accuracy_score(y_test, pred)"
      ],
      "execution_count": 25,
      "outputs": [
        {
          "output_type": "execute_result",
          "data": {
            "text/plain": [
              "0.8614285714285714"
            ]
          },
          "metadata": {
            "tags": []
          },
          "execution_count": 25
        }
      ]
    }
  ]
}