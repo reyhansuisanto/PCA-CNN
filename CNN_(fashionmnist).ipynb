{
  "nbformat": 4,
  "nbformat_minor": 5,
  "metadata": {
    "kernelspec": {
      "display_name": "Python 3",
      "language": "python",
      "name": "python3"
    },
    "language_info": {
      "codemirror_mode": {
        "name": "ipython",
        "version": 3
      },
      "file_extension": ".py",
      "mimetype": "text/x-python",
      "name": "python",
      "nbconvert_exporter": "python",
      "pygments_lexer": "ipython3",
      "version": "3.7.9"
    },
    "colab": {
      "name": "CNN (fashionmnist) UAS.ipynb",
      "provenance": [],
      "collapsed_sections": []
    },
    "accelerator": "GPU"
  },
  "cells": [
    {
      "cell_type": "code",
      "metadata": {
        "id": "KIyt28iWWw9k"
      },
      "source": [
        "# Reyhan Suisanto\n",
        "# 2301872980"
      ],
      "id": "KIyt28iWWw9k",
      "execution_count": 1,
      "outputs": []
    },
    {
      "cell_type": "code",
      "metadata": {
        "id": "2sTITN4dJ0Fp"
      },
      "source": [
        "import pandas as pd\n",
        "import numpy as np\n",
        "from keras.datasets import fashion_mnist\n",
        "from sklearn.preprocessing import StandardScaler\n",
        "from sklearn.model_selection import train_test_split\n",
        "from sklearn.metrics import accuracy_score\n",
        "import matplotlib.pyplot as plt\n",
        "from tensorflow.keras.utils import to_categorical\n",
        "from keras.models import Sequential\n",
        "from keras.layers import Dense, Conv2D, Flatten"
      ],
      "id": "2sTITN4dJ0Fp",
      "execution_count": 2,
      "outputs": []
    },
    {
      "cell_type": "markdown",
      "metadata": {
        "id": "_W-G8oTwozy8"
      },
      "source": [
        "Download data fashion.mnist sekaligus train test split data tersebut"
      ],
      "id": "_W-G8oTwozy8"
    },
    {
      "cell_type": "code",
      "metadata": {
        "id": "complicated-webster"
      },
      "source": [
        "(x_train, y_train), (x_test, y_test) = fashion_mnist.load_data()"
      ],
      "id": "complicated-webster",
      "execution_count": 3,
      "outputs": []
    },
    {
      "cell_type": "markdown",
      "metadata": {
        "id": "L0nGNLoLMJpN"
      },
      "source": [
        "Normalisasi data menggunakan standardscaler"
      ],
      "id": "L0nGNLoLMJpN"
    },
    {
      "cell_type": "code",
      "metadata": {
        "id": "jJy_SmaL4HwD"
      },
      "source": [
        "scaler = StandardScaler()\n",
        "x_train = scaler.fit_transform(x_train.reshape(60000,-1))\n",
        "x_test = scaler.fit_transform(x_test.reshape(10000,-1))"
      ],
      "id": "jJy_SmaL4HwD",
      "execution_count": 4,
      "outputs": []
    },
    {
      "cell_type": "markdown",
      "metadata": {
        "id": "MoSif40npAPa"
      },
      "source": [
        "Reshape x_train dan x_test. Lalu menggunakan to_categorical untuk mengencode data dari y_train dan y_test"
      ],
      "id": "MoSif40npAPa"
    },
    {
      "cell_type": "code",
      "metadata": {
        "id": "differential-importance"
      },
      "source": [
        "x_train = x_train.reshape(60000,28,28,1)\n",
        "x_test = x_test.reshape(10000,28,28,1)\n",
        "\n",
        "y_train = to_categorical(y_train)\n",
        "y_test = to_categorical(y_test)"
      ],
      "id": "differential-importance",
      "execution_count": 5,
      "outputs": []
    },
    {
      "cell_type": "markdown",
      "metadata": {
        "id": "UxNdblmepEhM"
      },
      "source": [
        "Membuat model dan menambahkan layer dari model"
      ],
      "id": "UxNdblmepEhM"
    },
    {
      "cell_type": "code",
      "metadata": {
        "id": "legislative-script"
      },
      "source": [
        "model = Sequential()\n",
        "model.add(Conv2D(64, kernel_size=3, activation='relu', input_shape=(28,28,1)))\n",
        "model.add(Conv2D(32, kernel_size=3, activation='relu'))\n",
        "model.add(Flatten())\n",
        "model.add(Dense(10, activation='softmax'))"
      ],
      "id": "legislative-script",
      "execution_count": 6,
      "outputs": []
    },
    {
      "cell_type": "markdown",
      "metadata": {
        "id": "VKYFC5NLq6zB"
      },
      "source": [
        "Melakukan compile model untuk mengetahui measure model performance"
      ],
      "id": "VKYFC5NLq6zB"
    },
    {
      "cell_type": "code",
      "metadata": {
        "id": "noticed-elder"
      },
      "source": [
        "model.compile(optimizer='adam', loss='categorical_crossentropy', metrics=['accuracy'])"
      ],
      "id": "noticed-elder",
      "execution_count": 7,
      "outputs": []
    },
    {
      "cell_type": "code",
      "metadata": {
        "id": "fitted-booking",
        "colab": {
          "base_uri": "https://localhost:8080/"
        },
        "outputId": "b96adadc-01d2-4cfa-a593-026d4bcd4455"
      },
      "source": [
        "model.summary()"
      ],
      "id": "fitted-booking",
      "execution_count": 8,
      "outputs": [
        {
          "output_type": "stream",
          "text": [
            "Model: \"sequential\"\n",
            "_________________________________________________________________\n",
            "Layer (type)                 Output Shape              Param #   \n",
            "=================================================================\n",
            "conv2d (Conv2D)              (None, 26, 26, 64)        640       \n",
            "_________________________________________________________________\n",
            "conv2d_1 (Conv2D)            (None, 24, 24, 32)        18464     \n",
            "_________________________________________________________________\n",
            "flatten (Flatten)            (None, 18432)             0         \n",
            "_________________________________________________________________\n",
            "dense (Dense)                (None, 10)                184330    \n",
            "=================================================================\n",
            "Total params: 203,434\n",
            "Trainable params: 203,434\n",
            "Non-trainable params: 0\n",
            "_________________________________________________________________\n"
          ],
          "name": "stdout"
        }
      ]
    },
    {
      "cell_type": "markdown",
      "metadata": {
        "id": "2m5Q0414MVTq"
      },
      "source": [
        "Validation"
      ],
      "id": "2m5Q0414MVTq"
    },
    {
      "cell_type": "code",
      "metadata": {
        "id": "mox4Iv0UMUrZ"
      },
      "source": [
        "x_test, x_val, y_test, y_val = train_test_split(x_test, y_test, test_size = 0.3)"
      ],
      "id": "mox4Iv0UMUrZ",
      "execution_count": 9,
      "outputs": []
    },
    {
      "cell_type": "markdown",
      "metadata": {
        "id": "-GW2QJE4q-Kk"
      },
      "source": [
        "Melakukan training untuk model"
      ],
      "id": "-GW2QJE4q-Kk"
    },
    {
      "cell_type": "code",
      "metadata": {
        "id": "bulgarian-private",
        "colab": {
          "base_uri": "https://localhost:8080/"
        },
        "outputId": "837d1bc2-a6f4-460c-f958-44e10533a6c3"
      },
      "source": [
        "model.fit(x_train, y_train, validation_data=(x_val, y_val), epochs=3)"
      ],
      "id": "bulgarian-private",
      "execution_count": 10,
      "outputs": [
        {
          "output_type": "stream",
          "text": [
            "Epoch 1/3\n",
            "1875/1875 [==============================] - 21s 4ms/step - loss: 0.4836 - accuracy: 0.8243 - val_loss: 0.3211 - val_accuracy: 0.8887\n",
            "Epoch 2/3\n",
            "1875/1875 [==============================] - 6s 3ms/step - loss: 0.2369 - accuracy: 0.9138 - val_loss: 0.2998 - val_accuracy: 0.8947\n",
            "Epoch 3/3\n",
            "1875/1875 [==============================] - 6s 3ms/step - loss: 0.1729 - accuracy: 0.9398 - val_loss: 0.2935 - val_accuracy: 0.8993\n"
          ],
          "name": "stdout"
        },
        {
          "output_type": "execute_result",
          "data": {
            "text/plain": [
              "<keras.callbacks.History at 0x7f37e0127150>"
            ]
          },
          "metadata": {
            "tags": []
          },
          "execution_count": 10
        }
      ]
    },
    {
      "cell_type": "markdown",
      "metadata": {
        "id": "qHqPYfV8rA9t"
      },
      "source": [
        "Prediksi test set dan mengubah setiap value > 0.50 menjadi 1 dan setiap value < 0.50 menjadi 0 agar accuracy score dapat dilakukan "
      ],
      "id": "qHqPYfV8rA9t"
    },
    {
      "cell_type": "code",
      "metadata": {
        "id": "martial-memory",
        "colab": {
          "base_uri": "https://localhost:8080/"
        },
        "outputId": "dc912d62-da60-4591-83fd-1bfb3cd8f8d8"
      },
      "source": [
        "prediction = model.predict(x_test)\n",
        "pred = (prediction > 0.50).astype(int)\n",
        "pred"
      ],
      "id": "martial-memory",
      "execution_count": 11,
      "outputs": [
        {
          "output_type": "execute_result",
          "data": {
            "text/plain": [
              "array([[0, 0, 0, ..., 1, 0, 0],\n",
              "       [0, 0, 0, ..., 0, 0, 0],\n",
              "       [0, 0, 0, ..., 1, 0, 0],\n",
              "       ...,\n",
              "       [0, 0, 0, ..., 0, 0, 0],\n",
              "       [0, 0, 0, ..., 1, 0, 0],\n",
              "       [0, 0, 0, ..., 0, 0, 0]])"
            ]
          },
          "metadata": {
            "tags": []
          },
          "execution_count": 11
        }
      ]
    },
    {
      "cell_type": "code",
      "metadata": {
        "id": "played-interview",
        "colab": {
          "base_uri": "https://localhost:8080/"
        },
        "outputId": "6aa1cd87-4bea-4da3-8993-c5b28b9e7f9a"
      },
      "source": [
        "y_test"
      ],
      "id": "played-interview",
      "execution_count": 12,
      "outputs": [
        {
          "output_type": "execute_result",
          "data": {
            "text/plain": [
              "array([[0., 0., 0., ..., 1., 0., 0.],\n",
              "       [0., 0., 0., ..., 0., 0., 0.],\n",
              "       [0., 0., 0., ..., 1., 0., 0.],\n",
              "       ...,\n",
              "       [0., 0., 0., ..., 0., 0., 0.],\n",
              "       [0., 0., 0., ..., 1., 0., 0.],\n",
              "       [0., 0., 0., ..., 0., 0., 0.]], dtype=float32)"
            ]
          },
          "metadata": {
            "tags": []
          },
          "execution_count": 12
        }
      ]
    },
    {
      "cell_type": "markdown",
      "metadata": {
        "id": "EHZXTd-krS2G"
      },
      "source": [
        "Hasil akhir dalam bentuk perbandingan antara data prediksi dan data real"
      ],
      "id": "EHZXTd-krS2G"
    },
    {
      "cell_type": "code",
      "metadata": {
        "colab": {
          "base_uri": "https://localhost:8080/"
        },
        "id": "C8axfoOOUeZL",
        "outputId": "abb6c932-82f7-4926-fd80-8f58c85dc845"
      },
      "source": [
        "accuracy_score(y_test, pred)"
      ],
      "id": "C8axfoOOUeZL",
      "execution_count": 13,
      "outputs": [
        {
          "output_type": "execute_result",
          "data": {
            "text/plain": [
              "0.9038571428571428"
            ]
          },
          "metadata": {
            "tags": []
          },
          "execution_count": 13
        }
      ]
    }
  ]
}