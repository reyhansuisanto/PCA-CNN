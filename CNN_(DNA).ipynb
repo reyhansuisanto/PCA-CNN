{
  "nbformat": 4,
  "nbformat_minor": 5,
  "metadata": {
    "kernelspec": {
      "display_name": "Python 3",
      "language": "python",
      "name": "python3"
    },
    "language_info": {
      "codemirror_mode": {
        "name": "ipython",
        "version": 3
      },
      "file_extension": ".py",
      "mimetype": "text/x-python",
      "name": "python",
      "nbconvert_exporter": "python",
      "pygments_lexer": "ipython3",
      "version": "3.7.9"
    },
    "colab": {
      "name": "CNN (DNA) UAS.ipynb",
      "provenance": [],
      "collapsed_sections": []
    }
  },
  "cells": [
    {
      "cell_type": "code",
      "metadata": {
        "id": "6XOjEU2Jor03"
      },
      "source": [
        "# Reyhan Suisanto\n",
        "# 2301872980"
      ],
      "id": "6XOjEU2Jor03",
      "execution_count": 1,
      "outputs": []
    },
    {
      "cell_type": "code",
      "metadata": {
        "id": "86rRlrem6Itx"
      },
      "source": [
        "import pandas as pd\n",
        "import numpy as np\n",
        "from sklearn.model_selection import train_test_split\n",
        "from sklearn.metrics import accuracy_score\n",
        "import matplotlib.pyplot as plt\n",
        "from tensorflow.keras.utils import to_categorical\n",
        "from keras.models import Sequential\n",
        "from keras.layers import Dense, Conv1D, Flatten"
      ],
      "id": "86rRlrem6Itx",
      "execution_count": 2,
      "outputs": []
    },
    {
      "cell_type": "markdown",
      "metadata": {
        "id": "-d8hiDRBmymK"
      },
      "source": [
        "Melakukan read rawdata dan dibagi menjadi x(feature) dan y(target). \n",
        "Setelah itu train test split dilakukan"
      ],
      "id": "-d8hiDRBmymK"
    },
    {
      "cell_type": "code",
      "metadata": {
        "id": "complicated-webster"
      },
      "source": [
        "data = pd.read_csv('rawdata.csv')\n",
        "\n",
        "data = data.drop(\"SAMPLE_ID\", axis = 1)\n",
        "data[\"STATUS\"].replace({1:0,2:1}, inplace=True)\n",
        "\n",
        "x = data.drop(\"STATUS\", axis=1)\n",
        "y = data['STATUS']\n",
        "\n",
        "x_train, x_test, y_train, y_test = train_test_split(x, y, test_size = 0.2, random_state = 0)"
      ],
      "id": "complicated-webster",
      "execution_count": 3,
      "outputs": []
    },
    {
      "cell_type": "markdown",
      "metadata": {
        "id": "b5J7LUM1n5gk"
      },
      "source": [
        "Sebelum mereshape, x_train dan x_test diubah dalam bentuk array"
      ],
      "id": "b5J7LUM1n5gk"
    },
    {
      "cell_type": "code",
      "metadata": {
        "id": "vaTzm5ep8ELQ"
      },
      "source": [
        "x_train = np.array(x_train)\n",
        "x_test = np.array(x_test)"
      ],
      "id": "vaTzm5ep8ELQ",
      "execution_count": 4,
      "outputs": []
    },
    {
      "cell_type": "code",
      "metadata": {
        "colab": {
          "base_uri": "https://localhost:8080/"
        },
        "id": "IEAiM1C1-WLZ",
        "outputId": "77acf3e6-6b7e-4ce1-f4b3-5f274ff58efa"
      },
      "source": [
        "x_test.shape"
      ],
      "id": "IEAiM1C1-WLZ",
      "execution_count": 5,
      "outputs": [
        {
          "output_type": "execute_result",
          "data": {
            "text/plain": [
              "(18, 10001)"
            ]
          },
          "metadata": {
            "tags": []
          },
          "execution_count": 5
        }
      ]
    },
    {
      "cell_type": "markdown",
      "metadata": {
        "id": "ZBiw0I1BoCUq"
      },
      "source": [
        "Kemudian reshape x_train dan x_test sesuai dengan shape nya"
      ],
      "id": "ZBiw0I1BoCUq"
    },
    {
      "cell_type": "code",
      "metadata": {
        "id": "differential-importance"
      },
      "source": [
        "x_train = x_train.reshape(71, 10001, 1)\n",
        "x_test = x_test.reshape(18, 10001, 1)"
      ],
      "id": "differential-importance",
      "execution_count": 6,
      "outputs": []
    },
    {
      "cell_type": "markdown",
      "metadata": {
        "id": "rw31kSMFoHw6"
      },
      "source": [
        "Membuat model dan menambahkan layer dari model"
      ],
      "id": "rw31kSMFoHw6"
    },
    {
      "cell_type": "code",
      "metadata": {
        "id": "legislative-script"
      },
      "source": [
        "model = Sequential()\n",
        "model.add(Conv1D(64, kernel_size=3, activation='relu', input_shape=(10001,1)))\n",
        "model.add(Conv1D(32, kernel_size=3, activation='relu'))\n",
        "model.add(Flatten())\n",
        "model.add(Dense(1, activation='sigmoid'))"
      ],
      "id": "legislative-script",
      "execution_count": 7,
      "outputs": []
    },
    {
      "cell_type": "markdown",
      "metadata": {
        "id": "cjER8PCmoOIs"
      },
      "source": [
        "Melakukan compile model untuk mengetahui measure model performance"
      ],
      "id": "cjER8PCmoOIs"
    },
    {
      "cell_type": "code",
      "metadata": {
        "id": "noticed-elder"
      },
      "source": [
        "model.compile(optimizer='adam', loss='binary_crossentropy', metrics=['accuracy'])"
      ],
      "id": "noticed-elder",
      "execution_count": 8,
      "outputs": []
    },
    {
      "cell_type": "code",
      "metadata": {
        "colab": {
          "base_uri": "https://localhost:8080/"
        },
        "id": "fitted-booking",
        "outputId": "da3ffc06-e484-45da-b3eb-1b58ef7b5a06"
      },
      "source": [
        "model.summary()"
      ],
      "id": "fitted-booking",
      "execution_count": 9,
      "outputs": [
        {
          "output_type": "stream",
          "text": [
            "Model: \"sequential\"\n",
            "_________________________________________________________________\n",
            "Layer (type)                 Output Shape              Param #   \n",
            "=================================================================\n",
            "conv1d (Conv1D)              (None, 9999, 64)          256       \n",
            "_________________________________________________________________\n",
            "conv1d_1 (Conv1D)            (None, 9997, 32)          6176      \n",
            "_________________________________________________________________\n",
            "flatten (Flatten)            (None, 319904)            0         \n",
            "_________________________________________________________________\n",
            "dense (Dense)                (None, 1)                 319905    \n",
            "=================================================================\n",
            "Total params: 326,337\n",
            "Trainable params: 326,337\n",
            "Non-trainable params: 0\n",
            "_________________________________________________________________\n"
          ],
          "name": "stdout"
        }
      ]
    },
    {
      "cell_type": "markdown",
      "metadata": {
        "id": "VIBqdJI42_6Z"
      },
      "source": [
        "Validation"
      ],
      "id": "VIBqdJI42_6Z"
    },
    {
      "cell_type": "code",
      "metadata": {
        "id": "Op6Z8MNs1oRN"
      },
      "source": [
        "x_test, x_validation, y_test, y_validation = train_test_split(x_test, y_test, test_size = 0.3)"
      ],
      "id": "Op6Z8MNs1oRN",
      "execution_count": 10,
      "outputs": []
    },
    {
      "cell_type": "markdown",
      "metadata": {
        "id": "N2BP1-rQoV6w"
      },
      "source": [
        "Training model"
      ],
      "id": "N2BP1-rQoV6w"
    },
    {
      "cell_type": "code",
      "metadata": {
        "colab": {
          "base_uri": "https://localhost:8080/"
        },
        "id": "bulgarian-private",
        "outputId": "5ca12978-6337-480b-d914-fbdcfcefc6c5"
      },
      "source": [
        "model.fit(x_train, y_train, validation_data=(x_validation, y_validation), epochs=10)"
      ],
      "id": "bulgarian-private",
      "execution_count": 11,
      "outputs": [
        {
          "output_type": "stream",
          "text": [
            "Epoch 1/10\n",
            "3/3 [==============================] - 16s 603ms/step - loss: 3.9062 - accuracy: 0.5004 - val_loss: 11.9038 - val_accuracy: 0.1667\n",
            "Epoch 2/10\n",
            "3/3 [==============================] - 1s 345ms/step - loss: 7.4374 - accuracy: 0.4918 - val_loss: 7.4918 - val_accuracy: 0.1667\n",
            "Epoch 3/10\n",
            "3/3 [==============================] - 1s 347ms/step - loss: 3.3039 - accuracy: 0.5113 - val_loss: 0.4529 - val_accuracy: 0.8333\n",
            "Epoch 4/10\n",
            "3/3 [==============================] - 1s 349ms/step - loss: 1.2521 - accuracy: 0.4809 - val_loss: 0.5276 - val_accuracy: 0.8333\n",
            "Epoch 5/10\n",
            "3/3 [==============================] - 1s 340ms/step - loss: 1.3366 - accuracy: 0.5043 - val_loss: 0.4694 - val_accuracy: 0.8333\n",
            "Epoch 6/10\n",
            "3/3 [==============================] - 1s 346ms/step - loss: 0.7813 - accuracy: 0.4957 - val_loss: 0.7309 - val_accuracy: 0.1667\n",
            "Epoch 7/10\n",
            "3/3 [==============================] - 1s 344ms/step - loss: 0.6637 - accuracy: 0.6028 - val_loss: 0.7502 - val_accuracy: 0.1667\n",
            "Epoch 8/10\n",
            "3/3 [==============================] - 1s 352ms/step - loss: 0.6270 - accuracy: 0.6920 - val_loss: 0.5983 - val_accuracy: 0.8333\n",
            "Epoch 9/10\n",
            "3/3 [==============================] - 1s 345ms/step - loss: 0.5935 - accuracy: 0.7459 - val_loss: 0.8139 - val_accuracy: 0.1667\n",
            "Epoch 10/10\n",
            "3/3 [==============================] - 1s 347ms/step - loss: 0.5653 - accuracy: 0.6544 - val_loss: 0.7315 - val_accuracy: 0.3333\n"
          ],
          "name": "stdout"
        },
        {
          "output_type": "execute_result",
          "data": {
            "text/plain": [
              "<keras.callbacks.History at 0x7fa9a1f3f490>"
            ]
          },
          "metadata": {
            "tags": []
          },
          "execution_count": 11
        }
      ]
    },
    {
      "cell_type": "markdown",
      "metadata": {
        "id": "EqfU8gUOoXkM"
      },
      "source": [
        "Prediksi test set dan mengubah setiap value > 0.50 menjadi 1 dan setiap value < 0.50 menjadi 0 agar accuracy score dapat dilakukan "
      ],
      "id": "EqfU8gUOoXkM"
    },
    {
      "cell_type": "code",
      "metadata": {
        "id": "martial-memory",
        "colab": {
          "base_uri": "https://localhost:8080/"
        },
        "outputId": "80086e48-5cf1-4f5f-a3f9-4090d99bd240"
      },
      "source": [
        "prediction = model.predict(x_test)\n",
        "pred = (prediction > 0.50).astype(int)\n",
        "pred"
      ],
      "id": "martial-memory",
      "execution_count": 12,
      "outputs": [
        {
          "output_type": "execute_result",
          "data": {
            "text/plain": [
              "array([[1],\n",
              "       [0],\n",
              "       [0],\n",
              "       [0],\n",
              "       [0],\n",
              "       [0],\n",
              "       [1],\n",
              "       [1],\n",
              "       [0],\n",
              "       [0],\n",
              "       [1],\n",
              "       [0]])"
            ]
          },
          "metadata": {
            "tags": []
          },
          "execution_count": 12
        }
      ]
    },
    {
      "cell_type": "code",
      "metadata": {
        "id": "Kaz3Xb-z-Xat",
        "colab": {
          "base_uri": "https://localhost:8080/"
        },
        "outputId": "b8f7807c-165f-4193-98ce-6aa105d11e31"
      },
      "source": [
        "y_test"
      ],
      "id": "Kaz3Xb-z-Xat",
      "execution_count": 13,
      "outputs": [
        {
          "output_type": "execute_result",
          "data": {
            "text/plain": [
              "63    0\n",
              "24    1\n",
              "41    1\n",
              "53    0\n",
              "45    1\n",
              "8     0\n",
              "43    0\n",
              "66    1\n",
              "88    1\n",
              "16    1\n",
              "56    0\n",
              "7     0\n",
              "Name: STATUS, dtype: int64"
            ]
          },
          "metadata": {
            "tags": []
          },
          "execution_count": 13
        }
      ]
    },
    {
      "cell_type": "markdown",
      "metadata": {
        "id": "LnyX3W0MocFM"
      },
      "source": [
        "Hasil akhir dalam bentuk perbandingan antara data prediksi dan data real"
      ],
      "id": "LnyX3W0MocFM"
    },
    {
      "cell_type": "code",
      "metadata": {
        "id": "X4qZ2RKMDhVB",
        "colab": {
          "base_uri": "https://localhost:8080/"
        },
        "outputId": "940fda28-9e5e-4a1b-ae27-d0cde2e4803c"
      },
      "source": [
        "accuracy_score(y_test, pred)"
      ],
      "id": "X4qZ2RKMDhVB",
      "execution_count": 14,
      "outputs": [
        {
          "output_type": "execute_result",
          "data": {
            "text/plain": [
              "0.3333333333333333"
            ]
          },
          "metadata": {
            "tags": []
          },
          "execution_count": 14
        }
      ]
    }
  ]
}