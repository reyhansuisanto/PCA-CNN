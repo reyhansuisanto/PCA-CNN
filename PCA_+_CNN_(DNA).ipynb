{
  "nbformat": 4,
  "nbformat_minor": 0,
  "metadata": {
    "colab": {
      "name": "PCA + CNN (DNA) UAS.ipynb",
      "provenance": []
    },
    "kernelspec": {
      "name": "python3",
      "display_name": "Python 3"
    },
    "language_info": {
      "name": "python"
    }
  },
  "cells": [
    {
      "cell_type": "code",
      "metadata": {
        "id": "nKdc84gfOZX2"
      },
      "source": [
        "# Reyhan Suisanto\n",
        "# 2301872980"
      ],
      "execution_count": 1,
      "outputs": []
    },
    {
      "cell_type": "code",
      "metadata": {
        "id": "8hzqUpbmOkYa"
      },
      "source": [
        "import pandas as pd\n",
        "import numpy as np\n",
        "from sklearn.model_selection import train_test_split\n",
        "from sklearn.metrics import accuracy_score\n",
        "import matplotlib.pyplot as plt\n",
        "from tensorflow.keras.utils import to_categorical\n",
        "from keras.models import Sequential\n",
        "from keras.layers import Dense, Conv1D, Flatten\n",
        "from sklearn.decomposition import PCA"
      ],
      "execution_count": 2,
      "outputs": []
    },
    {
      "cell_type": "markdown",
      "metadata": {
        "id": "SZgDz5pVOs2g"
      },
      "source": [
        "Melakukan read rawdata dan dibagi menjadi x(feature) dan y(target). \n",
        "Setelah itu train test split dilakukan"
      ]
    },
    {
      "cell_type": "code",
      "metadata": {
        "id": "LgVKdNuuO_-6"
      },
      "source": [
        "data = pd.read_csv('rawdata.csv')\n",
        "\n",
        "data = data.drop(\"SAMPLE_ID\", axis = 1)\n",
        "data[\"STATUS\"].replace({1:0,2:1}, inplace=True)\n",
        "\n",
        "x = data.drop(\"STATUS\", axis=1)\n",
        "y = data['STATUS']\n",
        "\n",
        "x_train, x_test, y_train, y_test = train_test_split(x, y, test_size = 0.2, random_state = 0)"
      ],
      "execution_count": 3,
      "outputs": []
    },
    {
      "cell_type": "markdown",
      "metadata": {
        "id": "Q8xKh01XPCuh"
      },
      "source": [
        "Sebelum mereshape, x_train dan x_test diubah dalam bentuk array"
      ]
    },
    {
      "cell_type": "code",
      "metadata": {
        "id": "iIpnQs4PPCWD"
      },
      "source": [
        "x_train = np.array(x_train)\n",
        "x_test = np.array(x_test)"
      ],
      "execution_count": 4,
      "outputs": []
    },
    {
      "cell_type": "markdown",
      "metadata": {
        "id": "ICF7qk1uPN91"
      },
      "source": [
        "PCA data x_train dan x_test"
      ]
    },
    {
      "cell_type": "code",
      "metadata": {
        "id": "6hr9aj_LPNPS"
      },
      "source": [
        "pca = PCA(n_components=64)\n",
        "pca = pca.fit(x_train)\n",
        "x_train = pca.transform(x_train)\n",
        "x_test = pca.transform(x_test)"
      ],
      "execution_count": 5,
      "outputs": []
    },
    {
      "cell_type": "markdown",
      "metadata": {
        "id": "542A0sz_PLC9"
      },
      "source": [
        "Kemudian reshape x_train dan x_test sesuai dengan shape nya"
      ]
    },
    {
      "cell_type": "code",
      "metadata": {
        "id": "MVxuaM_CPJCB"
      },
      "source": [
        "x_train = x_train.reshape(71, 64, 1)\n",
        "x_test = x_test.reshape(18, 64, 1)"
      ],
      "execution_count": 6,
      "outputs": []
    },
    {
      "cell_type": "markdown",
      "metadata": {
        "id": "WTSZPSAjP-my"
      },
      "source": [
        "Membuat model dan menambahkan layer dari model"
      ]
    },
    {
      "cell_type": "code",
      "metadata": {
        "id": "VN48R7vDP_Gr"
      },
      "source": [
        "model = Sequential()\n",
        "model.add(Conv1D(64, kernel_size=3, activation='relu', input_shape=(64,1)))\n",
        "model.add(Conv1D(32, kernel_size=3, activation='relu'))\n",
        "model.add(Flatten())\n",
        "model.add(Dense(1, activation='sigmoid'))"
      ],
      "execution_count": 7,
      "outputs": []
    },
    {
      "cell_type": "markdown",
      "metadata": {
        "id": "DETl7lQ6QDfk"
      },
      "source": [
        "Melakukan compile model untuk mengetahui measure model performance"
      ]
    },
    {
      "cell_type": "code",
      "metadata": {
        "id": "GMSO40t-QGWO"
      },
      "source": [
        "model.compile(optimizer='adam', loss='binary_crossentropy', metrics=['accuracy'])"
      ],
      "execution_count": 8,
      "outputs": []
    },
    {
      "cell_type": "code",
      "metadata": {
        "colab": {
          "base_uri": "https://localhost:8080/"
        },
        "id": "rfvWcrABQIBJ",
        "outputId": "78893c62-b698-4b24-9448-8e72e0742ab7"
      },
      "source": [
        "model.summary()"
      ],
      "execution_count": 9,
      "outputs": [
        {
          "output_type": "stream",
          "text": [
            "Model: \"sequential\"\n",
            "_________________________________________________________________\n",
            "Layer (type)                 Output Shape              Param #   \n",
            "=================================================================\n",
            "conv1d (Conv1D)              (None, 62, 64)            256       \n",
            "_________________________________________________________________\n",
            "conv1d_1 (Conv1D)            (None, 60, 32)            6176      \n",
            "_________________________________________________________________\n",
            "flatten (Flatten)            (None, 1920)              0         \n",
            "_________________________________________________________________\n",
            "dense (Dense)                (None, 1)                 1921      \n",
            "=================================================================\n",
            "Total params: 8,353\n",
            "Trainable params: 8,353\n",
            "Non-trainable params: 0\n",
            "_________________________________________________________________\n"
          ],
          "name": "stdout"
        }
      ]
    },
    {
      "cell_type": "markdown",
      "metadata": {
        "id": "6wGtFG3iQK0_"
      },
      "source": [
        "Validation"
      ]
    },
    {
      "cell_type": "code",
      "metadata": {
        "id": "T8rDHt0tQJKI"
      },
      "source": [
        "x_test, x_validation, y_test, y_validation = train_test_split(x_test, y_test, test_size = 0.3)"
      ],
      "execution_count": 10,
      "outputs": []
    },
    {
      "cell_type": "markdown",
      "metadata": {
        "id": "59H9O4lsQOMa"
      },
      "source": [
        "Training model"
      ]
    },
    {
      "cell_type": "code",
      "metadata": {
        "colab": {
          "base_uri": "https://localhost:8080/"
        },
        "id": "MnrEU4eoQL5-",
        "outputId": "a4329099-d7fa-45f8-cf3d-13dc5bc8ba06"
      },
      "source": [
        "model.fit(x_train, y_train, validation_data=(x_validation, y_validation), epochs=10)"
      ],
      "execution_count": 11,
      "outputs": [
        {
          "output_type": "stream",
          "text": [
            "Epoch 1/10\n",
            "3/3 [==============================] - 15s 265ms/step - loss: 0.7583 - accuracy: 0.4003 - val_loss: 0.6941 - val_accuracy: 0.5000\n",
            "Epoch 2/10\n",
            "3/3 [==============================] - 0s 16ms/step - loss: 0.6599 - accuracy: 0.6270 - val_loss: 0.6814 - val_accuracy: 0.5000\n",
            "Epoch 3/10\n",
            "3/3 [==============================] - 0s 17ms/step - loss: 0.6258 - accuracy: 0.5848 - val_loss: 0.6801 - val_accuracy: 0.5000\n",
            "Epoch 4/10\n",
            "3/3 [==============================] - 0s 15ms/step - loss: 0.5841 - accuracy: 0.7053 - val_loss: 0.6902 - val_accuracy: 0.6667\n",
            "Epoch 5/10\n",
            "3/3 [==============================] - 0s 14ms/step - loss: 0.5250 - accuracy: 0.8858 - val_loss: 0.6986 - val_accuracy: 0.6667\n",
            "Epoch 6/10\n",
            "3/3 [==============================] - 0s 15ms/step - loss: 0.4911 - accuracy: 0.8702 - val_loss: 0.6959 - val_accuracy: 0.6667\n",
            "Epoch 7/10\n",
            "3/3 [==============================] - 0s 14ms/step - loss: 0.4339 - accuracy: 0.9296 - val_loss: 0.6909 - val_accuracy: 0.6667\n",
            "Epoch 8/10\n",
            "3/3 [==============================] - 0s 15ms/step - loss: 0.4130 - accuracy: 0.9335 - val_loss: 0.6877 - val_accuracy: 0.3333\n",
            "Epoch 9/10\n",
            "3/3 [==============================] - 0s 14ms/step - loss: 0.3810 - accuracy: 0.9484 - val_loss: 0.6909 - val_accuracy: 0.3333\n",
            "Epoch 10/10\n",
            "3/3 [==============================] - 0s 15ms/step - loss: 0.3384 - accuracy: 0.9812 - val_loss: 0.7018 - val_accuracy: 0.6667\n"
          ],
          "name": "stdout"
        },
        {
          "output_type": "execute_result",
          "data": {
            "text/plain": [
              "<keras.callbacks.History at 0x7ff892d01950>"
            ]
          },
          "metadata": {
            "tags": []
          },
          "execution_count": 11
        }
      ]
    },
    {
      "cell_type": "markdown",
      "metadata": {
        "id": "6Y85J6yGQR_X"
      },
      "source": [
        "Prediksi test set dan mengubah setiap value > 0.50 menjadi 1 dan setiap value < 0.50 menjadi 0 agar accuracy score dapat dilakukan "
      ]
    },
    {
      "cell_type": "code",
      "metadata": {
        "colab": {
          "base_uri": "https://localhost:8080/"
        },
        "id": "5nwuu5zQQRuA",
        "outputId": "0a43b8de-1e2c-419f-9e97-c28e7d3d75e1"
      },
      "source": [
        "prediction = model.predict(x_test)\n",
        "pred = (prediction > 0.50).astype(int)\n",
        "pred"
      ],
      "execution_count": 12,
      "outputs": [
        {
          "output_type": "execute_result",
          "data": {
            "text/plain": [
              "array([[1],\n",
              "       [0],\n",
              "       [1],\n",
              "       [0],\n",
              "       [0],\n",
              "       [1],\n",
              "       [1],\n",
              "       [0],\n",
              "       [1],\n",
              "       [0],\n",
              "       [1],\n",
              "       [0]])"
            ]
          },
          "metadata": {
            "tags": []
          },
          "execution_count": 12
        }
      ]
    },
    {
      "cell_type": "markdown",
      "metadata": {
        "id": "dx6pz1MHQXuo"
      },
      "source": [
        "Hasil akhir dalam bentuk perbandingan antara data prediksi dan data real"
      ]
    },
    {
      "cell_type": "code",
      "metadata": {
        "colab": {
          "base_uri": "https://localhost:8080/"
        },
        "id": "UV6hSCwZQUpN",
        "outputId": "eba3885c-bd8e-4511-9e20-81d579961e73"
      },
      "source": [
        "accuracy_score(y_test, pred)"
      ],
      "execution_count": 13,
      "outputs": [
        {
          "output_type": "execute_result",
          "data": {
            "text/plain": [
              "0.5833333333333334"
            ]
          },
          "metadata": {
            "tags": []
          },
          "execution_count": 13
        }
      ]
    }
  ]
}